{
 "cells": [
  {
   "cell_type": "markdown",
   "metadata": {},
   "source": [
    "# 1.데이터불러오기"
   ]
  },
  {
   "cell_type": "code",
   "execution_count": 1,
   "metadata": {},
   "outputs": [],
   "source": [
    "import re\n",
    "import pandas as pd\n",
    "import numpy as np\n",
    "import json\n",
    "#from bs4 import Beautiful Soup\n",
    "# from nltk.corpus import Beautiful Soup\n",
    "from tensorflow.python.keras.preprocessing.sequence import pad_sequences\n",
    "from tensorflow.python.keras.preprocessing.text import Tokenizer\n",
    "import konlp\n",
    "import os\n",
    "import matplotlib.pyplot as plt\n",
    "import seaborn as sns\n",
    "%matplotlib inline"
   ]
  },
  {
   "cell_type": "code",
   "execution_count": 2,
   "metadata": {},
   "outputs": [
    {
     "data": {
      "text/plain": [
       "title       object\n",
       "content     object\n",
       "time        object\n",
       "nan        float64\n",
       "dtype: object"
      ]
     },
     "execution_count": 2,
     "metadata": {},
     "output_type": "execute_result"
    }
   ],
   "source": [
    "#헤더추가 (title,content,time)\n",
    "train =pd.read_csv('dataset3000.csv',names=['title','content','time','nan'])\n",
    "train.head()\n",
    "train.shape\n",
    "train.dtypes"
   ]
  },
  {
   "cell_type": "code",
   "execution_count": 3,
   "metadata": {},
   "outputs": [
    {
     "data": {
      "text/html": [
       "<div>\n",
       "<style scoped>\n",
       "    .dataframe tbody tr th:only-of-type {\n",
       "        vertical-align: middle;\n",
       "    }\n",
       "\n",
       "    .dataframe tbody tr th {\n",
       "        vertical-align: top;\n",
       "    }\n",
       "\n",
       "    .dataframe thead th {\n",
       "        text-align: right;\n",
       "    }\n",
       "</style>\n",
       "<table border=\"1\" class=\"dataframe\">\n",
       "  <thead>\n",
       "    <tr style=\"text-align: right;\">\n",
       "      <th></th>\n",
       "      <th>title</th>\n",
       "      <th>content</th>\n",
       "      <th>time</th>\n",
       "      <th>nan</th>\n",
       "    </tr>\n",
       "  </thead>\n",
       "  <tbody>\n",
       "    <tr>\n",
       "      <th>0</th>\n",
       "      <td>'[사진]조여정,'우아한 플라워원피스 입고''</td>\n",
       "      <td>'제24회 춘사영화제는 ‘아시아를 대표하는 영화제로의 도약’을 표방한 제23회에 이...</td>\n",
       "      <td>2019-07-20 16:40</td>\n",
       "      <td>NaN</td>\n",
       "    </tr>\n",
       "    <tr>\n",
       "      <th>1</th>\n",
       "      <td>'[프로필]국세청 과장급 전보자(7월 22일 자)'</td>\n",
       "      <td>'조사기획1계장 ▲경주세무서장 ▲국세청 인도네시아 주재관 ▲외교부 파견 ▲서울지방국...</td>\n",
       "      <td>2019-07-20 16:40</td>\n",
       "      <td>NaN</td>\n",
       "    </tr>\n",
       "    <tr>\n",
       "      <th>2</th>\n",
       "      <td>'[조이HD]춘사영화제 참석한 봉준호 감독-한진원 작가'</td>\n",
       "      <td>'말레이시아 Finas(말레시아 영화진흥위)의 신임 대표인 Ahmad Idham을 ...</td>\n",
       "      <td>2019-07-20 16:40</td>\n",
       "      <td>NaN</td>\n",
       "    </tr>\n",
       "    <tr>\n",
       "      <th>3</th>\n",
       "      <td>'[사진]클라라,'시선 올킬 블루 롱드레스''</td>\n",
       "      <td>'제24회 춘사영화제는 ‘아시아를 대표하는 영화제로의 도약’을 표방한 제23회에 이...</td>\n",
       "      <td>2019-07-20 16:40</td>\n",
       "      <td>NaN</td>\n",
       "    </tr>\n",
       "    <tr>\n",
       "      <th>4</th>\n",
       "      <td>'[사진]7개부문 노미네이트 기생충 봉준호 감독,'엄청난 환호 받으며''</td>\n",
       "      <td>'제24회 춘사영화제는 ‘아시아를 대표하는 영화제로의 도약’을 표방한 제23회에 이...</td>\n",
       "      <td>2019-07-20 16:40</td>\n",
       "      <td>NaN</td>\n",
       "    </tr>\n",
       "  </tbody>\n",
       "</table>\n",
       "</div>"
      ],
      "text/plain": [
       "                                      title  \\\n",
       "0                 '[사진]조여정,'우아한 플라워원피스 입고''   \n",
       "1              '[프로필]국세청 과장급 전보자(7월 22일 자)'   \n",
       "2           '[조이HD]춘사영화제 참석한 봉준호 감독-한진원 작가'   \n",
       "3                 '[사진]클라라,'시선 올킬 블루 롱드레스''   \n",
       "4  '[사진]7개부문 노미네이트 기생충 봉준호 감독,'엄청난 환호 받으며''   \n",
       "\n",
       "                                             content              time  nan  \n",
       "0  '제24회 춘사영화제는 ‘아시아를 대표하는 영화제로의 도약’을 표방한 제23회에 이...  2019-07-20 16:40  NaN  \n",
       "1  '조사기획1계장 ▲경주세무서장 ▲국세청 인도네시아 주재관 ▲외교부 파견 ▲서울지방국...  2019-07-20 16:40  NaN  \n",
       "2  '말레이시아 Finas(말레시아 영화진흥위)의 신임 대표인 Ahmad Idham을 ...  2019-07-20 16:40  NaN  \n",
       "3  '제24회 춘사영화제는 ‘아시아를 대표하는 영화제로의 도약’을 표방한 제23회에 이...  2019-07-20 16:40  NaN  \n",
       "4  '제24회 춘사영화제는 ‘아시아를 대표하는 영화제로의 도약’을 표방한 제23회에 이...  2019-07-20 16:40  NaN  "
      ]
     },
     "execution_count": 3,
     "metadata": {},
     "output_type": "execute_result"
    }
   ],
   "source": [
    "train.head()"
   ]
  },
  {
   "cell_type": "code",
   "execution_count": 4,
   "metadata": {},
   "outputs": [],
   "source": [
    "# nan 변수버리기\n",
    "train.drop(['nan'], axis='columns', inplace=True)"
   ]
  },
  {
   "cell_type": "code",
   "execution_count": 5,
   "metadata": {},
   "outputs": [
    {
     "data": {
      "text/html": [
       "<div>\n",
       "<style scoped>\n",
       "    .dataframe tbody tr th:only-of-type {\n",
       "        vertical-align: middle;\n",
       "    }\n",
       "\n",
       "    .dataframe tbody tr th {\n",
       "        vertical-align: top;\n",
       "    }\n",
       "\n",
       "    .dataframe thead th {\n",
       "        text-align: right;\n",
       "    }\n",
       "</style>\n",
       "<table border=\"1\" class=\"dataframe\">\n",
       "  <thead>\n",
       "    <tr style=\"text-align: right;\">\n",
       "      <th></th>\n",
       "      <th>title</th>\n",
       "      <th>content</th>\n",
       "      <th>time</th>\n",
       "    </tr>\n",
       "  </thead>\n",
       "  <tbody>\n",
       "    <tr>\n",
       "      <th>2868</th>\n",
       "      <td>'[포토] ABCC FINTECH INDONESIA, 양해각서(MOU) 체결'</td>\n",
       "      <td>'시사매거진, SISAMAGAZINE 8월 1일 오후 4시(현지시간) 인도네시아 자...</td>\n",
       "      <td>2019-08-01 20:00</td>\n",
       "    </tr>\n",
       "    <tr>\n",
       "      <th>2869</th>\n",
       "      <td>'옥천 복숭아, 홍콩 시장 공략 나서'</td>\n",
       "      <td>'한편, 옥천군복숭아수출협의회는 2017년 인도네시아에 0.7t(4천522달러), ...</td>\n",
       "      <td>2019-08-01 20:00</td>\n",
       "    </tr>\n",
       "    <tr>\n",
       "      <th>2870</th>\n",
       "      <td>'‘애인과 혼전 성관계’ 때문에 어느 20대 여성이 받은 무시무시한 처벌'</td>\n",
       "      <td>'혼전 성관계를 가진 인도네시아 남녀가 공개 태형을 당했다고 서울신문 나우뉴스가 1...</td>\n",
       "      <td>2019-08-01 20:00</td>\n",
       "    </tr>\n",
       "    <tr>\n",
       "      <th>2871</th>\n",
       "      <td>'부산대병원 개발 '의료영상저장전송시스템', 카자흐스탄서 맹활약'</td>\n",
       "      <td>'세계 시장에서 경쟁할 수 있는 수준의 '엔터프라이즈 데이터 플랫폼' 개발을 위해 ...</td>\n",
       "      <td>2019-08-01 20:00</td>\n",
       "    </tr>\n",
       "    <tr>\n",
       "      <th>2872</th>\n",
       "      <td>'aT 인도네시아서 K-Food 2,235만불 수출상담등 쾌거'</td>\n",
       "      <td>'인도네시아에서 '2019 자카르타 K-Food Fair' 행사를 개최해 총 2천2...</td>\n",
       "      <td>2019-08-01 20:00</td>\n",
       "    </tr>\n",
       "  </tbody>\n",
       "</table>\n",
       "</div>"
      ],
      "text/plain": [
       "                                            title  \\\n",
       "2868  '[포토] ABCC FINTECH INDONESIA, 양해각서(MOU) 체결'   \n",
       "2869                        '옥천 복숭아, 홍콩 시장 공략 나서'   \n",
       "2870    '‘애인과 혼전 성관계’ 때문에 어느 20대 여성이 받은 무시무시한 처벌'   \n",
       "2871         '부산대병원 개발 '의료영상저장전송시스템', 카자흐스탄서 맹활약'   \n",
       "2872          'aT 인도네시아서 K-Food 2,235만불 수출상담등 쾌거'   \n",
       "\n",
       "                                                content              time  \n",
       "2868  '시사매거진, SISAMAGAZINE 8월 1일 오후 4시(현지시간) 인도네시아 자...  2019-08-01 20:00  \n",
       "2869  '한편, 옥천군복숭아수출협의회는 2017년 인도네시아에 0.7t(4천522달러), ...  2019-08-01 20:00  \n",
       "2870  '혼전 성관계를 가진 인도네시아 남녀가 공개 태형을 당했다고 서울신문 나우뉴스가 1...  2019-08-01 20:00  \n",
       "2871  '세계 시장에서 경쟁할 수 있는 수준의 '엔터프라이즈 데이터 플랫폼' 개발을 위해 ...  2019-08-01 20:00  \n",
       "2872  '인도네시아에서 '2019 자카르타 K-Food Fair' 행사를 개최해 총 2천2...  2019-08-01 20:00  "
      ]
     },
     "execution_count": 5,
     "metadata": {},
     "output_type": "execute_result"
    }
   ],
   "source": [
    "train.tail()"
   ]
  },
  {
   "cell_type": "code",
   "execution_count": 6,
   "metadata": {},
   "outputs": [
    {
     "data": {
      "text/plain": [
       "(2873, 3)"
      ]
     },
     "execution_count": 6,
     "metadata": {},
     "output_type": "execute_result"
    }
   ],
   "source": [
    "train.shape"
   ]
  },
  {
   "cell_type": "markdown",
   "metadata": {},
   "source": [
    "# 2.데이터전처리"
   ]
  },
  {
   "cell_type": "code",
   "execution_count": 7,
   "metadata": {},
   "outputs": [
    {
     "name": "stdout",
     "output_type": "stream",
     "text": [
      "학습 데이터의 개수: 2873\n"
     ]
    }
   ],
   "source": [
    " # 데이터개수\n",
    " print('학습 데이터의 개수: {}'.format(len(train)))"
   ]
  },
  {
   "cell_type": "code",
   "execution_count": 8,
   "metadata": {},
   "outputs": [
    {
     "data": {
      "text/plain": [
       "0    25\n",
       "1    28\n",
       "2    31\n",
       "3    25\n",
       "4    40\n",
       "Name: title, dtype: int64"
      ]
     },
     "execution_count": 8,
     "metadata": {},
     "output_type": "execute_result"
    }
   ],
   "source": [
    "# title(제목) 컬럼 문자길이\n",
    "train_title_len=train['title'].apply(len)\n",
    "train_title_len.head()"
   ]
  },
  {
   "cell_type": "code",
   "execution_count": 9,
   "metadata": {},
   "outputs": [
    {
     "data": {
      "text/plain": [
       "0    127\n",
       "1    115\n",
       "2    129\n",
       "3    127\n",
       "4    127\n",
       "Name: content, dtype: int64"
      ]
     },
     "execution_count": 9,
     "metadata": {},
     "output_type": "execute_result"
    }
   ],
   "source": [
    "# content(내용) 컬럼 문자길이\n",
    "train_content_len=train['content'].apply(len)\n",
    "train_content_len.head()"
   ]
  },
  {
   "cell_type": "code",
   "execution_count": 10,
   "metadata": {},
   "outputs": [
    {
     "data": {
      "text/plain": [
       "Text(0, 0.5, 'Number of review')"
      ]
     },
     "execution_count": 10,
     "metadata": {},
     "output_type": "execute_result"
    },
    {
     "data": {
      "image/png": "[encoded data removed]",
      "text/plain": [
       "<Figure size 864x360 with 1 Axes>"
      ]
     },
     "metadata": {
      "needs_background": "light"
     },
     "output_type": "display_data"
    }
   ],
   "source": [
    "# title 문자길이 분포\n",
    "\n",
    "#그래프에 대한 이미지 크기 선언\n",
    "#figsize : (가로,세로) 형태의 튜플로 입력\n",
    "plt.figure(figsize=(12,5))\n",
    "#히스토그램 선언\n",
    "# bins: 히스토그램 값에 대한 버킷 범위\n",
    "# range: x축 값의 범위\n",
    "# alpha: 그래프 색상 투명도\n",
    "# color :그래프 색상\n",
    "# label: 그래프에 대한 라벨\n",
    "plt.hist(train_title_len, bins=100, alpha=0.5, color='b',label='word')\n",
    "plt.yscale('log',nonposy='clip')\n",
    "#그래프 제목\n",
    "plt.title('Log-histogram of length of review')\n",
    "#그래프 x축 라벨\n",
    "plt.xlabel('Length of review')\n",
    "#그래프 y축 라벨\n",
    "plt.ylabel('Number of review')"
   ]
  },
  {
   "cell_type": "code",
   "execution_count": 11,
   "metadata": {},
   "outputs": [
    {
     "name": "stdout",
     "output_type": "stream",
     "text": [
      "제목 길이 최댓값: 62\n",
      "제목 길이 최솟값: 4\n",
      "제목 길이 평균값: 32.98\n",
      "제목 길이 표준편차: 8.47\n",
      "제목 길이 중간값 33.0\n",
      "제목 길이 제1사분위: 27.0\n",
      "제목 길이 제3사분위: 38.0\n"
     ]
    }
   ],
   "source": [
    "# title 길이 통계값\n",
    "print('제목 길이 최댓값: {}'.format(np.max(train_title_len)))\n",
    "print('제목 길이 최솟값: {}'.format(np.min(train_title_len)))\n",
    "print('제목 길이 평균값: {:.2f}'.format(np.mean(train_title_len)))\n",
    "print('제목 길이 표준편차: {:.2f}'.format(np.std(train_title_len)))\n",
    "print('제목 길이 중간값 {}'.format(np.median(train_title_len)))\n",
    "print('제목 길이 제1사분위: {}'.format(np.percentile(train_title_len,25)))\n",
    "print('제목 길이 제3사분위: {}'.format(np.percentile(train_title_len,75)))     \n",
    "    \n",
    "                    "
   ]
  },
  {
   "cell_type": "code",
   "execution_count": 12,
   "metadata": {},
   "outputs": [
    {
     "data": {
      "text/plain": [
       "Text(0, 0.5, 'Number of review')"
      ]
     },
     "execution_count": 12,
     "metadata": {},
     "output_type": "execute_result"
    },
    {
     "data": {
      "image/png": "[encoded data removed]",
      "text/plain": [
       "<Figure size 864x360 with 1 Axes>"
      ]
     },
     "metadata": {
      "needs_background": "light"
     },
     "output_type": "display_data"
    }
   ],
   "source": [
    "# content 문자길이 분포\n",
    "# title 문자길이 분포\n",
    "\n",
    "#그래프에 대한 이미지 크기 선언\n",
    "#figsize : (가로,세로) 형태의 튜플로 입력\n",
    "plt.figure(figsize=(12,5))\n",
    "#히스토그램 선언\n",
    "# bins: 히스토그램 값에 대한 버킷 범위\n",
    "# range: x축 값의 범위\n",
    "# alpha: 그래프 색상 투명도\n",
    "# color :그래프 색상\n",
    "# label: 그래프에 대한 라벨\n",
    "plt.hist(train_content_len, bins=100, alpha=0.5, color='b',label='word')\n",
    "plt.yscale('log',nonposy='clip')\n",
    "#그래프 제목\n",
    "plt.title('Log-histogram of length of review')\n",
    "#그래프 x축 라벨\n",
    "plt.xlabel('Length of review')\n",
    "#그래프 y축 라벨\n",
    "plt.ylabel('Number of review')"
   ]
  },
  {
   "cell_type": "code",
   "execution_count": 13,
   "metadata": {},
   "outputs": [
    {
     "name": "stdout",
     "output_type": "stream",
     "text": [
      "내용 길이 최댓값: 177\n",
      "내용 길이 최솟값: 12\n",
      "내용 길이 평균값: 124.67\n",
      "내용 길이 표준편차: 10.98\n",
      "내용 길이 중간값 124.0\n",
      "내용 길이 제1사분위: 120.0\n",
      "내용 길이 제3사분위: 129.0\n"
     ]
    }
   ],
   "source": [
    "# content 길이 통계값\n",
    "print('내용 길이 최댓값: {}'.format(np.max(train_content_len)))\n",
    "print('내용 길이 최솟값: {}'.format(np.min(train_content_len)))\n",
    "print('내용 길이 평균값: {:.2f}'.format(np.mean(train_content_len)))\n",
    "print('내용 길이 표준편차: {:.2f}'.format(np.std(train_content_len)))\n",
    "print('내용 길이 중간값 {}'.format(np.median(train_content_len)))\n",
    "print('내용 길이 제1사분위: {}'.format(np.percentile(train_content_len,25)))\n",
    "print('내용 길이 제3사분위: {}'.format(np.percentile(train_content_len,75)))     \n",
    "    "
   ]
  },
  {
   "cell_type": "code",
   "execution_count": 14,
   "metadata": {},
   "outputs": [
    {
     "data": {
      "text/plain": [
       "(-0.5, 799.5, 599.5, -0.5)"
      ]
     },
     "execution_count": 14,
     "metadata": {},
     "output_type": "execute_result"
    },
    {
     "data": {
      "image/png": "[encoded data removed]",
      "text/plain": [
       "<Figure size 1440x1080 with 1 Axes>"
      ]
     },
     "metadata": {
      "needs_background": "light"
     },
     "output_type": "display_data"
    }
   ],
   "source": [
    "#wordcloud\n",
    "# title(제목) 많이 사용된 단어\n",
    "from wordcloud import WordCloud\n",
    "cloud=WordCloud(width=800,height=600).generate(\" \".join(train['title']))\n",
    "plt.figure(figsize=(20,15))\n",
    "plt.imshow(cloud)\n",
    "plt.axis('off')"
   ]
  },
  {
   "cell_type": "code",
   "execution_count": 15,
   "metadata": {},
   "outputs": [
    {
     "ename": "SyntaxError",
     "evalue": "invalid syntax (<ipython-input-15-a5f50b37ebd8>, line 2)",
     "output_type": "error",
     "traceback": [
      "\u001b[1;36m  File \u001b[1;32m\"<ipython-input-15-a5f50b37ebd8>\"\u001b[1;36m, line \u001b[1;32m2\u001b[0m\n\u001b[1;33m    wordcloud=WordColud(font_path=C:\\Users\\glass\\Anaconda3\\Lib\\site-packages\\matplotlib\\mpl-data\\fonts\\ttf,+'nanumgothic-regular.ttf').generate(\" \".join(train['title']))\u001b[0m\n\u001b[1;37m                                   ^\u001b[0m\n\u001b[1;31mSyntaxError\u001b[0m\u001b[1;31m:\u001b[0m invalid syntax\n"
     ]
    }
   ],
   "source": [
    "#wordcloud\n",
    "wordcloud=WordColud(font_path=C:\\Users\\glass\\Anaconda3\\Lib\\site-packages\\matplotlib\\mpl-data\\fonts\\ttf,+'nanumgothic-regular.ttf').generate(\" \".join(train['title']))\n",
    "plt.figure(figsize=(20,15))\n",
    "plt.imshow(cloud)\n",
    "plt.axis('off')"
   ]
  },
  {
   "cell_type": "markdown",
   "metadata": {},
   "source": [
    "# 3.데이터정제\n",
    "###  여기서는 'title'로 했다."
   ]
  },
  {
   "cell_type": "markdown",
   "metadata": {},
   "source": [
    "# konlpy 사용하기! #다운 필요jype"
   ]
  },
  {
   "cell_type": "markdown",
   "metadata": {},
   "source": [
    "# [사진], [포토] 지우기!"
   ]
  },
  {
   "cell_type": "code",
   "execution_count": 16,
   "metadata": {},
   "outputs": [
    {
     "name": "stdout",
     "output_type": "stream",
     "text": [
      "사진조여정우아한 플라워원피스 입고\n"
     ]
    }
   ],
   "source": [
    "#1.한글 및 공백을 제외한 문자를 모두 제거\n",
    "title_text=re.sub(\"[^가-힣ㄱ-ㅎ ㅏ-ㅣ\\\\s]\",\"\",train['title'][0])\n",
    "print(title_text)"
   ]
  },
  {
   "cell_type": "code",
   "execution_count": 17,
   "metadata": {},
   "outputs": [],
   "source": [
    "from konlpy.tag import Okt"
   ]
  },
  {
   "cell_type": "code",
   "execution_count": 18,
   "metadata": {
    "scrolled": true
   },
   "outputs": [
    {
     "name": "stderr",
     "output_type": "stream",
     "text": [
      "C:\\Users\\glass\\Anaconda3\\lib\\site-packages\\jpype\\_core.py:210: UserWarning: \n",
      "-------------------------------------------------------------------------------\n",
      "Deprecated: convertStrings was not specified when starting the JVM. The default\n",
      "behavior in JPype will be False starting in JPype 0.8. The recommended setting\n",
      "for new code is convertStrings=False.  The legacy value of True was assumed for\n",
      "this session. If you are a user of an application that reported this warning,\n",
      "please file a ticket with the developer.\n",
      "-------------------------------------------------------------------------------\n",
      "\n",
      "  \"\"\")\n"
     ]
    },
    {
     "name": "stdout",
     "output_type": "stream",
     "text": [
      "['사진', '조여정', '우아하다', '플라워', '원피스', '입다']\n"
     ]
    }
   ],
   "source": [
    "#불용어 제거하기 위해 문장 단어 나누기\n",
    "okt=Okt() \n",
    "title_text=okt.morphs(title_text,stem=True)\n",
    "print(title_text) "
   ]
  },
  {
   "cell_type": "code",
   "execution_count": 22,
   "metadata": {},
   "outputs": [
    {
     "data": {
      "text/plain": [
       "title      object\n",
       "content    object\n",
       "time       object\n",
       "dtype: object"
      ]
     },
     "execution_count": 22,
     "metadata": {},
     "output_type": "execute_result"
    }
   ],
   "source": [
    "train.dtypes"
   ]
  },
  {
   "cell_type": "code",
   "execution_count": 25,
   "metadata": {},
   "outputs": [
    {
     "name": "stdout",
     "output_type": "stream",
     "text": [
      "                               사진조여정우아한 플라워원피스 입고\n",
      "                            프로필국세청 과장급 전보자월 일 자\n",
      "                         조이춘사영화제 참석한 봉준호 감독한진원 작가\n",
      "                               사진클라라시선 올킬 블루 롱드레스\n",
      "                사진개부문 노미네이트 기생충 봉준호 감독엄청난 환호 받으며\n",
      "                                      사진함소원우아한 입장\n",
      "                                   조이엄태구 지적인 남자야\n",
      "                                    조이진기주 매력적인 미모\n",
      "                               조이기생충 이정은 엄마 미소\n",
      "                               조이공명 춘사영화제 빛내는 미소\n",
      "                         조이춘사영화제 조여정 칸이 반한 미소\n",
      "                             조이춘사영화제 문지인 민트여신\n",
      "                                       사진공명훈남 매력\n",
      "                     무역위 전기프라이팬 특허권 침해 불공정무역행위 조사 개시\n",
      "                              사진베이비페이스 이성경화려한 변신\n",
      "                                       사진클라라섹시하게\n",
      "                       사진상체 노출 클라라이보다 더 아찔할 수 없어\n",
      "                       조이조여정 춘사영화제 여우주연상에 빛나는 자태\n",
      "                              조이함소원 연하 남편을 향한 마음\n",
      "                             사진춘사영화제 참석한 기생충 봉준호 감독\n",
      "                              사진이정은영화 팬 여러분 사랑해요\n",
      "                                     사진문지인섹시 레드립\n",
      "                                    사진하지영어느덧 여배우\n",
      "                                  사진김강현춘사영화제 왔어요\n",
      "                                      사진공명달콤한 하트\n",
      "                                조이전여빈 우아한 블랙 드레스\n",
      "                            조이전여빈 춘사영화제가 주목하는 신예\n",
      "                                        사진공명젠틀하게\n",
      "                             조이문지인 년차 베테랑 여배우\n",
      "                                    사진전여빈아름다운 미소\n",
      "                                                      \n",
      "                             스라라넷 인니 교육대와 제휴\n",
      "                       길 한복판서 고양이 산 채로 잡아먹은 남성 충격\n",
      "                                  옥천 복숭아 홍콩 판촉활동 전개\n",
      "                올해 휴가 아직이라면 내일투어와 함께 공짜 해외여행 떠나세요\n",
      "                 로드 블루문펀드와 손잡았다동남아시아 사업 확대 추진\n",
      "                         네마프  덴마크 비디오아트 특별전 개최\n",
      "               에스엘에프앤비 킹콩부대찌개 올해의 브랜드 대상 년 연속 수상\n",
      "                    남자가 고양이를 산 채로엽기 영상에 인도네시아 충격\n",
      "                              동티모르 아세안 번째 회원국 될까\n",
      "             부산대병원 컨소시엄  시스템 카자흐스탄에 첫 수출\n",
      "        네마프  롯데시네마 홍대입구서 덴마크 비디오아트 특별전 개최\n",
      "                   블루문펀드와 손 잡았다동남 사업 확대 추진\n",
      "                            옥천군 복숭아 홍콩 수출 확대 판촉 추진\n",
      "                           해외바이어 초청 수출상담회 흥행 성공 예감\n",
      "               광고 찍어도 되겠어여자친구 엄지 똥머리스포티룩 완벽 소화\n",
      "                          해외 포토 인도네시아 대통령 만나는 손정의\n",
      "    혈관폐에 좋은 음식 부아메라 오일 효능 및 부작용은뉴기니섬 고산지\n",
      "                            슈퍼주니어 규현   출격\n",
      "               임신한 채 고문구타 당한 듯시리아 난민촌서 인니 여성 사망\n",
      "                           이 주의 새 책 의열단 항일의 불꽃 \n",
      "                     파월이 또 우릴 실망시켰다트럼프 맹비난종합보\n",
      "                   해외무대서 기술 뽐내는  세계 최초 제품에 러브콜\n",
      "                    년여만에  금리인하 물꼬우리도 따라 내린다\n",
      "                  전남테크노파크 전남 모빌리티산업 활성화 기업간담회 개최\n",
      "                    이슈  온라인 년만에 인도네시아 서비스 종료\n",
      "          포토    양해각서 체결\n",
      "                                옥천 복숭아 홍콩 시장 공략 나서\n",
      "            애인과 혼전 성관계 때문에 어느 대 여성이 받은 무시무시한 처벌\n",
      "                 부산대병원 개발 의료영상저장전송시스템 카자흐스탄서 맹활약\n",
      "                   인도네시아서  만불 수출상담등 쾌거\n",
      "     \n"
     ]
    }
   ],
   "source": [
    "#전체제목\n",
    "#1.한글 및 공백을 제외한 문자를 모두 제거\n",
    "title_text_all=re.sub(\"[^가-힣ㄱ-ㅎ ㅏ-ㅣ\\\\s]\",\"\",str(train['title']))\n",
    "print(title_text_all)\n"
   ]
  },
  {
   "cell_type": "code",
   "execution_count": 27,
   "metadata": {},
   "outputs": [
    {
     "name": "stdout",
     "output_type": "stream",
     "text": [
      "['사진', '조여정', '우아하다', '플라워', '원피스', '입다', '\\n                            ', '프로필', '국세청', '과장', '급', '전보', '자월', '일', '자', '\\n                         ', '조', '이춘사', '영화제', '참석', '한', '봉준호', '감독', '한', '진원', '작가', '\\n                               ', '사진', '클라라', '시선', '올킬', '블루', '롱', '드레스', '\\n                ', '사진', '개', '부문', '노미네이트', '기생충', '봉준호', '감독', '엄청나다', '환호', '받다', '\\n                                      ', '사진', '함소원', '우아하다', '입장', '\\n                                   ', '조이', '엄태구', '지적', '인', '남자', '야', '\\n                                    ', '조이진', '기주', '매력', '적', '인', '미모', '\\n                               ', '조이', '기생충', '이정은', '엄마', '미소', '\\n                               ', '조이', '공명', '추다', '영화제', '빛', '내다', '미소', '\\n                         ', '조', '이춘사', '영화제', '조여정', '칸', '이', '반한', '미소', '\\n                             ', '조', '이춘사', '영화제', '문지', '인', '민트', '여신', '\\n                                       ', '사진', '공명', '훈남', '매력', '\\n                     ', '무역', '위', '전기', '프라이팬', '특허권', '침해', '불공정', '무역', '행위', '조사', '개시', '\\n                              ', '사진', '베이비페이스', '이성경', '화려하다', '변신', '\\n                                       ', '사진', '클라라', '섹시하다', '\\n                       ', '사진', '상체', '노출', '클라라', '이', '보다', '더', '아찔하다', '수', '없다', '\\n                       ', '조이조', '여정', '추다', '영화제', '여우주연상', '에', '빛나다', '자태', '\\n                              ', '조이', '함소원', '연하', '남편', '을', '향', '한', '마음', '\\n                             ', '사진', '추다', '영화제', '참석', '한', '기생충', '봉준호', '감독', '\\n                              ', '사진', '이정은', '영화', '팬', '여러분', '사랑', '하다', '\\n                                     ', '사진', '문', '지인', '섹시', '레드', '립', '\\n                                    ', '사진', '하지영', '어느덧다', '여배우', '\\n                                  ', '사진', '김강현', '추다', '영화제', '오다', '\\n                                      ', '사', '진공', '명', '달콤하다', '하트', '\\n                                ', '조', '이전', '여', '빈', '우아하다', '블랙', '드레스', '\\n                            ', '조', '이전', '여', '빈', '추다', '영화제', '가', '주목', '하다', '신예', '\\n                                        ', '사', '진공', '명', '젠틀', '하', '게', '\\n                             ', '조이', '문', '지인', '년차', '베테', '랑', '여배우', '\\n                                    ', '사진전', '여', '빈', '아름답다', '미소', '\\n                                                      \\n                             ', '스라라넷', '인니', '교육', '대', '와', '제휴', '\\n                       ', '길', '한', '복판', '서', '고양이', '산', '채', '로', '잡아먹다', '남성', '충격', '\\n                                  ', '옥천', '복숭아', '홍콩', '판촉', '활동', '전개', '\\n                ', '올해', '휴가', '아직', '이', '라면', '내', '일', '투어', '와', '함께', '공짜', '해외여행', '떠나다', '\\n                 ', '로드', '블루문', '펀드', '와', '손잡다', '동남아시아', '사업', '확대', '추진', '\\n                         ', '네', '마프', '덴마크', '비디오아트', '특별', '전', '개최', '\\n               ', '에스엘', '에프', '앤비', '킹콩', '부대찌개', '올해', '의', '브랜드', '대상', '년', '연속', '수상', '\\n                    ', '남자', '가', '고양이', '를', '산', '채', '로', '엽기', '영상', '에', '인도네시아', '충격', '\\n                              ', '동티모르', '아세안', '번째', '회원', '국', '되다', '\\n             ', '부산', '대', '병원', '컨소시엄', '시스템', '카자흐스탄', '에', '첫', '수출', '\\n        ', '네', '마프', '롯데', '시네마', '홍대', '입구', '서', '덴마크', '비디오아트', '특별', '전', '개최', '\\n                   ', '블루문', '펀드', '와', '손', '잡다', '동남', '사업', '확대', '추진', '\\n                            ', '옥천군', '복숭아', '홍콩', '수출', '확대', '판촉', '추진', '\\n                           ', '해외', '바이어', '초청', '수출', '상담', '회', '흥행', '성공', '예감', '\\n               ', '광고', '찍다', '되다', '여자친구', '엄지', '똥', '머리', '스포', '티', '룩', '완벽', '소화', '\\n                          ', '해외', '포토', '인도네시아', '대통령', '만나다', '손정', '의', '\\n    ', '혈관', '폐', '에', '좋다', '음식', '부아', '메라', '오일', '효능', '및', '부작용', '은', '뉴기니섬', '고산', '지', '\\n                            ', '슈퍼주니어', '규현', '출격', '\\n               ', '임신', '한', '채', '고문', '구타', '당한', '듯', '시리아', '난민', '촌', '서', '인니', '여성', '사망', '\\n                           ', '이', '주의', '새', '책', '의열단', '항일', '의', '불꽃', '파월', '이', '또', '우릴', '실망', '시키다', '트럼프', '맹', '비난', '종합', '보', '\\n                   ', '해외', '무대', '서', '기술', '뽐내다', '세계', '최초', '제품', '에', '러브콜', '\\n                    ', '년여', '만에', '금리인하', '물꼬', '우리', '도', '따르다', '내', '린다', '\\n                  ', '전남', '테크노', '파크', '전남', '모빌리티', '산업', '활성화', '기업', '간담', '회', '개최', '\\n                    ', '이슈', '온라인', '년', '만에', '인도네시아', '서비스', '종료', '\\n          ', '포토', '양해각서', '체결', '\\n                                ', '옥천', '복숭아', '홍콩', '시장', '공략', '나서다', '\\n            ', '애인', '과', '혼전', '성관계', '때문', '에', '어느', '대다', '여성', '이', '받다', '무시무시하다', '처벌', '\\n                 ', '부산', '대', '병원', '개발', '의료', '영상', '저장', '전송', '시스템', '카자흐스탄', '서', '맹활약', '\\n                   ', '인도네시아', '서', '만', '불', '수출', '상담', '등', '쾌거', '\\n     ']\n"
     ]
    }
   ],
   "source": [
    "#전체 형태소나누기\n",
    "#불용어 제거하기 위해 문장 단어 나누기\n",
    "okt_all=Okt() \n",
    "title_text_all=okt_all.morphs(title_text_all,stem=True)\n",
    "print(title_text_all) "
   ]
  },
  {
   "cell_type": "code",
   "execution_count": null,
   "metadata": {},
   "outputs": [],
   "source": [
    "# 불용어제거\n",
    "stop_words=set(['은','는','이','가','하','아','것','들','의','있','되','수','보','주','등','한'])\n",
    "clean_content=[token for w in content_text if not token in stop_words]"
   ]
  },
  {
   "cell_type": "markdown",
   "metadata": {},
   "source": [
    "## 전처리과정 전체 적용 함수 "
   ]
  },
  {
   "cell_type": "code",
   "execution_count": null,
   "metadata": {},
   "outputs": [],
   "source": [
    "def preprocessing(train,okt,remove_stopwords=False,stop_words=[]):\n",
    "    #train: 전처리할 텍스트\n",
    "    #okt:okt 객체를 반복적으로 생성하지 않고 미리 생성한 후 인자로 받는다.\n",
    "    #remove_stopword:불용어를 제거할지 여부 선택, 기본값은 False\n",
    "    #stop_word:불용어 사전은 사용자가 직접입력해야함. 기본값은 빈 리스트\n",
    "    \n",
    "    #1.한글 및 공백을 제외한 문자를 모두 제거\n",
    "    title_text=re.sub(\"[^가-힣ㄱ-ㅎ ㅏ-\\\\s]\",\"\",str(train['title']))\n",
    "    \n",
    "    #2. okt객체를 활용해 형태소 단위로 나눈다.\n",
    "    title_text=okt.morphs(title_text,stem=True)\n",
    "    \n",
    "    if remove_stopwords:\n",
    "        #불용어 제거(선택적)\n",
    "        title_text=[token for token in title_text if not token in stop_words]\n",
    "    \n",
    "    return title_text"
   ]
  },
  {
   "cell_type": "code",
   "execution_count": null,
   "metadata": {},
   "outputs": [],
   "source": [
    "# 함수실행\n",
    "\n",
    "# 불용어정의\n",
    "stop_words=set(['은','는','이','가','하','아','것','들','의','있','되','수','보','주','등','한','및','듯','료'])\n",
    "\n",
    "okt=Okt()\n",
    "\n",
    "clean_train_title=[]\n",
    "\n",
    "## 여기서 train 무엇인지... 다시 보기 p.224\n",
    "for title_text in train['title']:\n",
    "    #비어있는 데이터에서 멈추지 않도록 문자열인 경우에만 진행\n",
    "    if type(title_text) == str:\n",
    "        clean_train_title.append(preprocessing(title_text,okt,remove_stopwords=True,stop_words=stop_words))\n",
    "    else:\n",
    "        clean_train_title.append([]) # string이 아니면 비어있는 값 추가\n",
    "        \n",
    "clean_train_title[:4] #앞의 4개 데이터확인\n",
    "    "
   ]
  },
  {
   "cell_type": "code",
   "execution_count": null,
   "metadata": {},
   "outputs": [],
   "source": [
    "# content 전체전처리 #return word_"
   ]
  },
  {
   "cell_type": "code",
   "execution_count": null,
   "metadata": {},
   "outputs": [],
   "source": [
    "# 단어최대길이설정"
   ]
  },
  {
   "cell_type": "code",
   "execution_count": null,
   "metadata": {},
   "outputs": [],
   "source": [
    "# 벡터표상화"
   ]
  },
  {
   "cell_type": "markdown",
   "metadata": {},
   "source": [
    "# 4.word2vec 벡터화"
   ]
  },
  {
   "cell_type": "code",
   "execution_count": null,
   "metadata": {},
   "outputs": [],
   "source": [
    "#word2vec 파라미터 설명\n",
    "# workers =프로세스개수\n",
    "# size= 워드 벡터 특징값수(벡터의 차원을 정한다.)\n",
    "# min_count =단어에 대한 최소 빈도수(적은 빈도수의 단어는 학습하지 않는다. )\n",
    "# window =컨테스트 윈도우 크기\n",
    "# sample=샘플링 비율 (Ex)1e-3 :0.001이 좋은 성능을 낸다\n",
    "\n",
    "num_workers=4\n",
    "num_size=300\n",
    "min_word_count=40\n",
    "context=10\n",
    "downsampling=1e-3"
   ]
  },
  {
   "cell_type": "code",
   "execution_count": 29,
   "metadata": {},
   "outputs": [],
   "source": [
    "#진행상황확인위해\n",
    "import logging\n",
    "logging.basicConfig(format='%(asctime)s : %(levelname)s : %(message)s',level=logging.INFO)\n",
    "\n"
   ]
  },
  {
   "cell_type": "code",
   "execution_count": 30,
   "metadata": {},
   "outputs": [
    {
     "name": "stdout",
     "output_type": "stream",
     "text": [
      "Training model...\n"
     ]
    },
    {
     "ename": "NameError",
     "evalue": "name 'Word2Vec' is not defined",
     "output_type": "error",
     "traceback": [
      "\u001b[1;31m---------------------------------------------------------------------------\u001b[0m",
      "\u001b[1;31mNameError\u001b[0m                                 Traceback (most recent call last)",
      "\u001b[1;32m<ipython-input-30-4ac26a53fc32>\u001b[0m in \u001b[0;36m<module>\u001b[1;34m\u001b[0m\n\u001b[0;32m      1\u001b[0m \u001b[1;32mfrom\u001b[0m \u001b[0mgensim\u001b[0m\u001b[1;33m.\u001b[0m\u001b[0mmodels\u001b[0m \u001b[1;32mimport\u001b[0m \u001b[0mword2vec\u001b[0m\u001b[1;33m\u001b[0m\u001b[1;33m\u001b[0m\u001b[0m\n\u001b[0;32m      2\u001b[0m \u001b[0mprint\u001b[0m\u001b[1;33m(\u001b[0m\u001b[1;34m\"Training model...\"\u001b[0m\u001b[1;33m)\u001b[0m\u001b[1;33m\u001b[0m\u001b[1;33m\u001b[0m\u001b[0m\n\u001b[1;32m----> 3\u001b[1;33m \u001b[0mmodel\u001b[0m\u001b[1;33m=\u001b[0m \u001b[0mWord2Vec\u001b[0m\u001b[1;33m(\u001b[0m\u001b[0mtrain1\u001b[0m\u001b[1;33m,\u001b[0m \u001b[0msize\u001b[0m\u001b[1;33m=\u001b[0m\u001b[1;36m300\u001b[0m\u001b[1;33m,\u001b[0m \u001b[0mwindow\u001b[0m\u001b[1;33m=\u001b[0m\u001b[1;36m5\u001b[0m\u001b[1;33m,\u001b[0m \u001b[0mmin_count\u001b[0m\u001b[1;33m=\u001b[0m\u001b[1;36m5\u001b[0m\u001b[1;33m,\u001b[0m \u001b[0mworkers\u001b[0m\u001b[1;33m=\u001b[0m\u001b[1;36m4\u001b[0m\u001b[1;33m,\u001b[0m \u001b[0msg\u001b[0m\u001b[1;33m=\u001b[0m\u001b[1;36m1\u001b[0m\u001b[1;33m)\u001b[0m\u001b[1;33m\u001b[0m\u001b[1;33m\u001b[0m\u001b[0m\n\u001b[0m\u001b[0;32m      4\u001b[0m \u001b[1;33m\u001b[0m\u001b[0m\n",
      "\u001b[1;31mNameError\u001b[0m: name 'Word2Vec' is not defined"
     ]
    }
   ],
   "source": [
    "from gensim.models import word2vec\n",
    "print(\"Training model...\")\n",
    "model= Word2Vec(train1, size=300, window=5, min_count=5, workers=4, sg=1)\n",
    "\n"
   ]
  },
  {
   "cell_type": "code",
   "execution_count": null,
   "metadata": {},
   "outputs": [],
   "source": [
    "#위에 껄로 학습완료\n",
    "\n",
    "#모델 하이퍼파라미터를 설정한 내용을 모델 이름에 담는 다면 나중에 참고하기에 좋을 것이다.\n",
    "#모델을 저장하면 Word2Vec.load()를 통해 모델을 다시 사용할 수 있다. \n",
    "#model_name=\"300features_40minwords_10context\"\n",
    "############ model.save(model_name)"
   ]
  },
  {
   "cell_type": "code",
   "execution_count": null,
   "metadata": {},
   "outputs": [],
   "source": []
  },
  {
   "cell_type": "markdown",
   "metadata": {},
   "source": [
    "# 5. 텍스트 유사도"
   ]
  },
  {
   "cell_type": "code",
   "execution_count": null,
   "metadata": {},
   "outputs": [],
   "source": []
  }
 ],
 "metadata": {
  "kernelspec": {
   "display_name": "Python 3",
   "language": "python",
   "name": "python3"
  },
  "language_info": {
   "codemirror_mode": {
    "name": "ipython",
    "version": 3
   },
   "file_extension": ".py",
   "mimetype": "text/x-python",
   "name": "python",
   "nbconvert_exporter": "python",
   "pygments_lexer": "ipython3",
   "version": "3.7.3"
  }
 },
 "nbformat": 4,
 "nbformat_minor": 2
}
