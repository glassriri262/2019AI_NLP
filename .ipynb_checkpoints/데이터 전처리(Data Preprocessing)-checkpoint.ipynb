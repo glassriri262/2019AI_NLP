{
 "cells": [
  {
   "cell_type": "markdown",
   "metadata": {},
   "source": [
    "# 1.데이터불러오기"
   ]
  },
  {
   "cell_type": "code",
   "execution_count": 1,
   "metadata": {},
   "outputs": [],
   "source": [
    "import re\n",
    "import pandas as pd\n",
    "import numpy as np\n",
    "import json\n",
    "#from bs4 import Beautiful Soup\n",
    "# from nltk.corpus import Beautiful Soup\n",
    "from tensorflow.python.keras.preprocessing.sequence import pad_sequences\n",
    "from tensorflow.python.keras.preprocessing.text import Tokenizer\n",
    "import konlp\n",
    "import os\n",
    "import matplotlib.pyplot as plt\n",
    "import seaborn as sns\n",
    "%matplotlib inline"
   ]
  },
  {
   "cell_type": "code",
   "execution_count": null,
   "metadata": {},
   "outputs": [],
   "source": [
    "#헤더추가 (title,content,time)\n",
    "train =pd.read_csv('dataset3000.csv',names=['title','content','time','nan'])\n",
    "train.head()\n",
    "train.shape\n",
    "train.dtypes"
   ]
  },
  {
   "cell_type": "code",
   "execution_count": null,
   "metadata": {},
   "outputs": [],
   "source": [
    "train.head()"
   ]
  },
  {
   "cell_type": "code",
   "execution_count": null,
   "metadata": {},
   "outputs": [],
   "source": [
    "# nan 변수버리기\n",
    "train.drop(['nan'], axis='columns', inplace=True)"
   ]
  },
  {
   "cell_type": "markdown",
   "metadata": {},
   "source": [
    "# 2.데이터전처리"
   ]
  },
  {
   "cell_type": "code",
   "execution_count": null,
   "metadata": {},
   "outputs": [],
   "source": [
    " # 데이터개수\n",
    " print('학습 데이터의 개수: {}'.format(len(train)))"
   ]
  },
  {
   "cell_type": "code",
   "execution_count": 7,
   "metadata": {},
   "outputs": [
    {
     "name": "stdout",
     "output_type": "stream",
     "text": [
      "학습 데이터의 개수: 2873\n"
     ]
    }
   ],
   "source": [
    "# title(제목) 컬럼 문자길이\n",
    "train_title_len=train['title'].apply(len)\n",
    "train_title_len.head()"
   ]
  },
  {
   "cell_type": "markdown",
   "metadata": {},
   "source": [
    "# 3.데이터정제\n",
    "###  여기서는 'title'로 했다."
   ]
  },
  {
   "cell_type": "markdown",
   "metadata": {},
   "source": [
    "## 전처리과정 전체 적용 함수 "
   ]
  },
  {
   "cell_type": "code",
   "execution_count": null,
   "metadata": {},
   "outputs": [],
   "source": [
    "def preprocessing(train,okt,remove_stopwords=False,stop_words=[]):\n",
    "    #train: 전처리할 텍스트\n",
    "    #okt:okt 객체를 반복적으로 생성하지 않고 미리 생성한 후 인자로 받는다.\n",
    "    #remove_stopword:불용어를 제거할지 여부 선택, 기본값은 False\n",
    "    #stop_word:불용어 사전은 사용자가 직접입력해야함. 기본값은 빈 리스트\n",
    "    \n",
    "    #1.한글 및 공백을 제외한 문자를 모두 제거\n",
    "    title_text=re.sub(\"[^가-힣ㄱ-ㅎ ㅏ-\\\\s]\",\"\",train['title'])\n",
    "    \n",
    "    #2. okt객체를 활용해 형태소 단위로 나눈다.\n",
    "    title_text=okt.morphs(title_text,stem=True)\n",
    "    \n",
    "    if remove_stopwords:\n",
    "        #불용어 제거(선택적)\n",
    "        title_text=[token for token in title_text if not token in stop_words]\n",
    "    \n",
    "    return title_text"
   ]
  },
  {
   "cell_type": "code",
   "execution_count": null,
   "metadata": {},
   "outputs": [],
   "source": [
    "# 함수실행\n",
    "\n",
    "# 불용어정의\n",
    "stop_words=set(['은','는','이','가','하','아','것','들','의','있','되','수','보','주','등','한','및','듯','료'])\n",
    "\n",
    "okt=Okt()\n",
    "\n",
    "clean_train_title=[]\n",
    "\n",
    "## 여기서 train 무엇인지... 다시 보기 p.224\n",
    "for title_text in train['title']:\n",
    "    #비어있는 데이터에서 멈추지 않도록 문자열인 경우에만 진행\n",
    "    if type(title_text) == str:\n",
    "        clean_train_title.append(preprocessing(title_text,okt,remove_stopwords=True,stop_words=stop_words))\n",
    "    else:\n",
    "        clean_train_title.append([]) # string이 아니면 비어있는 값 추가\n",
    "        \n",
    "clean_train_title[:4] #앞의 4개 데이터확인\n",
    "    "
   ]
  },
  {
   "cell_type": "markdown",
   "metadata": {},
   "source": [
    "# 4.word2vec 벡터화"
   ]
  },
  {
   "cell_type": "code",
   "execution_count": null,
   "metadata": {},
   "outputs": [],
   "source": [
    "#진행상황확인위해\n",
    "import logging\n",
    "logging.basicConfig(format='%(asctime)s : %(levelname)s : %(message)s',level=logging.INFO)\n"
   ]
  },
  {
   "cell_type": "code",
   "execution_count": null,
   "metadata": {},
   "outputs": [],
   "source": [
    "from gensim.models import Word2Vec\n",
    "print(\"Training model...\")\n",
    "model_ted = Word2Vec(train1, size=300, window=5, min_count=5, workers=4, sg=1)"
   ]
  },
  {
   "cell_type": "code",
   "execution_count": null,
   "metadata": {},
   "outputs": [],
   "source": [
    "model_ted"
   ]
  },
  {
   "cell_type": "markdown",
   "metadata": {},
   "source": [
    "# 모델 결과 탐색"
   ]
  },
  {
   "cell_type": "code",
   "execution_count": null,
   "metadata": {},
   "outputs": [],
   "source": [
    " # 유사도가 없는 단어 추출\n",
    "model.wv.doesnt_match('감독은 밥을 먹었어'.split())"
   ]
  },
  {
   "cell_type": "code",
   "execution_count": null,
   "metadata": {},
   "outputs": [],
   "source": [
    " # 유사도가 없는 단어 추출\n",
    "model_ted.wv.doesnt_match('감독은 밥을 먹었어'.split())"
   ]
  },
  {
   "cell_type": "code",
   "execution_count": null,
   "metadata": {},
   "outputs": [],
   "source": [
    "\n",
    "# 가장 유사한 단어를 추출\n",
    "model.wv.most_similar(\"사진\")\n",
    "\n",
    "# 아래링크의 결과가 나와야함.\n",
    "#https://programmers.co.kr/learn/courses/21/lessons/1698"
   ]
  }
 ],
 "metadata": {
  "kernelspec": {
   "display_name": "Python 3",
   "language": "python",
   "name": "python3"
  },
  "language_info": {
   "codemirror_mode": {
    "name": "ipython",
    "version": 3
   },
   "file_extension": ".py",
   "mimetype": "text/x-python",
   "name": "python",
   "nbconvert_exporter": "python",
   "pygments_lexer": "ipython3",
   "version": "3.7.3"
  }
 },
 "nbformat": 4,
 "nbformat_minor": 2
}
